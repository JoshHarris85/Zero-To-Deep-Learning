{
 "cells": [
  {
   "cell_type": "markdown",
   "metadata": {},
   "source": [
    "# Conclusions and Next Steps"
   ]
  },
  {
   "cell_type": "markdown",
   "metadata": {},
   "source": [
    "We have reached the end of the book, and hopefully the beginning of an incredible journey for you, the reader!\n",
    "\n",
    "We hope we have demystified Deep Learning for you and prepared you to venture into this field as a practitioner or a researcher. Above all else, we hope you will build some great stuff using this book.\n",
    "\n",
    "Before we part, we would like to give you some pointers to resources you can tap into. Remember, this field evolves fast, so make sure to keep yourself updated by discussing with people and checking resources online."
   ]
  },
  {
   "cell_type": "markdown",
   "metadata": {},
   "source": [
    "## Where to go next"
   ]
  },
  {
   "cell_type": "markdown",
   "metadata": {},
   "source": [
    "You may be wondering where to go next after you have built the foundation. Here are a few ideas, and two words of advice.\n",
    "\n",
    "First of all, we advise you choose a specific project. Start with a goal in mind, and then obtain the resources you need to achieve it. The field is rapidly evolving, so it's more useful to get one project to completion and get some experience through it, rather than trying to know everything like an encyclopedia.\n",
    "\n",
    "Here are some examples of projects you could pursue:\n",
    "\n",
    "##### Find an interesting dataset, build a visualization or a model\n",
    "You can look for datasets in many places including:\n",
    "\n",
    "- [UCI Machine Learning Repository](https://archive.ics.uci.edu/ml/datasets.html)\n",
    "- [Figure8 Datasets](https://www.figure-eight.com/datasets/)\n",
    "- [AWS Datasets](https://registry.opendata.aws/)\n",
    "- [Kaggle Datasets](https://www.kaggle.com/datasets)\n",
    "- [Awesome Datasets](https://github.com/ChristosChristofidis/awesome-deep-learning#datasets)\n",
    "- [Open Government Data](https://www.data.gov/open-gov/)\n",
    "- [Data.World](https://data.world/)\n",
    "\n",
    "##### Reproduce the results of a cool deep learning repo\n",
    "Many researchers publish their code, and if they don't, others try to reproduce their claims. Look on Github for an exciting project and try to run its code. Most likely you will encounter hiccups along the way, and these will teach you valuable lessons.\n",
    "\n",
    "\n",
    "##### Participate in a Kaggle competition\n",
    "[Kaggle](https://www.kaggle.com) is a website that hosts machine learning competitions. Competitions are a great way to test your understanding of a topic, to make friends with similar interests and possibly to win some money.\n",
    "\n",
    "\n",
    "##### Learn how to deploy models on web apps using Tensorflow and Tensorflow.js\n",
    "[Tensorflow.js](https://www.tensorflow.org/js/) is a JavaScript library for training and deploying ML models in the browser and on Node.js. Now that you understand how to train Neural Networks, it should be fairly straightforward to adapt your knowledge to a different programming language."
   ]
  },
  {
   "cell_type": "markdown",
   "metadata": {},
   "source": [
    "## Online resources"
   ]
  },
  {
   "cell_type": "markdown",
   "metadata": {},
   "source": [
    "By far the most comprehensive list of Resources on Deep Learning is [Awesome Deep Learning list on Github](https://github.com/ChristosChristofidis/awesome-deep-learning).\n",
    "\n",
    "This list contains sublists of: Free Online Books, Courses, Videos and Lectures, Papers, Tutorials, Researchers, Websites, Datasets, Conferences, Frameworks, Tools and more.\n",
    "\n",
    "\n",
    "Another broad list of research papers is the [Awesome Deep Learning Resources list on Github](https://github.com/endymecy/awesome-deeplearning-resources).\n",
    "\n",
    "which is a list of recent papers regarding deep learning and deep reinforcement learning. They are sorted by time to see the recent papers first."
   ]
  },
  {
   "cell_type": "markdown",
   "metadata": {},
   "source": [
    "## Bootcamp"
   ]
  },
  {
   "cell_type": "markdown",
   "metadata": {},
   "source": [
    "Finally, as you may have noticed on our website, we also run an in-person Bootcamp. It is a 5-day immersive and hands-on training, covering the content of this book and more. If you like the material here and need some more help getting started, make sure you check out our Bootcamp at: [www.zerotodeeplearning.com](www.zerotodeeplearning.com)\n",
    "\n",
    "We hope you have enjoyed our book, Zero to Deep Learning, and will keep practicing in the field!"
   ]
  }
 ],
 "metadata": {
  "kernelspec": {
   "display_name": "Python 3",
   "language": "python",
   "name": "python3"
  },
  "language_info": {
   "codemirror_mode": {
    "name": "ipython",
    "version": 3
   },
   "file_extension": ".py",
   "mimetype": "text/x-python",
   "name": "python",
   "nbconvert_exporter": "python",
   "pygments_lexer": "ipython3",
   "version": "3.7.3"
  },
  "title": "Conclusions and Next Steps"
 },
 "nbformat": 4,
 "nbformat_minor": 2
}
